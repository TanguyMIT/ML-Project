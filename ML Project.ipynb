{
 "cells": [
  {
   "cell_type": "code",
   "execution_count": 1,
   "metadata": {
    "collapsed": true
   },
   "outputs": [],
   "source": [
    "# Imports\n",
    "import numpy as np \n",
    "import pylab as pl\n",
    "import matplotlib as plt\n",
    "import os as os\n",
    "import csv\n",
    "import pandas as pd\n",
    "\n",
    "os.chdir('/Users/tanguymarion/Desktop/MIT courses/Machine learning/Pb_set2')\n",
    "import Logistic_classification as LR_class\n",
    "import Linear_SVM_classification as Lin_SVM_class\n",
    "import Kernelized_SVM_classification as Ker_SVM_class"
   ]
  },
  {
   "cell_type": "code",
   "execution_count": 2,
   "metadata": {
    "collapsed": true
   },
   "outputs": [],
   "source": [
    "# Path definition\n",
    "os.chdir('/Users/tanguymarion/Desktop/MIT courses/Machine learning/Milestone')\n",
    "# Loads the data\n",
    "data = pd.read_csv( 'experian_nov6.csv', sep = ',', header = 0, index_col = 0 )\n",
    "data = pd.DataFrame( data )\n",
    "data = data.astype(float)\n",
    "friday = data.copy()\n",
    "y = np.array(data['CURR_KEYCD'])\n",
    "del friday['CURR_KEYCD']\n",
    "x = np.array(friday)\n",
    "\n",
    "sampling = False\n",
    "sample_size = 1000\n",
    "\n",
    "if(sampling):\n",
    "    x = x[0:sample_size,:]\n",
    "    y = y[0:sample_size]"
   ]
  },
  {
   "cell_type": "code",
   "execution_count": 3,
   "metadata": {
    "collapsed": true
   },
   "outputs": [],
   "source": [
    "# Split data between train, validation and test data sets\n",
    "\n",
    "fraction_train = 0.6\n",
    "fraction_validate = 0.2\n",
    "\n",
    "n=x.shape[0]\n",
    "train_size = int(n*fraction_train)\n",
    "validate_size = int(n*fraction_validate)\n",
    "test_size = n - train_size - validate_size\n",
    "x_train = x[0:train_size,:]\n",
    "x_val = x[train_size:train_size+validate_size,:]\n",
    "x_test = x[train_size+validate_size:n,:]\n",
    "y_train = y[0:train_size]\n",
    "y_val = y[train_size:train_size+validate_size]\n",
    "y_test = y[train_size+validate_size:n]"
   ]
  },
  {
   "cell_type": "code",
   "execution_count": null,
   "metadata": {},
   "outputs": [
    {
     "name": "stdout",
     "output_type": "stream",
     "text": [
      "\n",
      " Avec lambda = 1 et une l2 regularisation\n",
      "\n",
      " Erreur de classification 0.6984760522496372\n"
     ]
    }
   ],
   "source": [
    "#Logistique regression\n",
    "\n",
    "#Logistic_classification(X_t, y_t, X_tr, y_tr, X_v, y_v, Plot, Display tuning, Tune, Lambda if no tuning, \n",
    "#                        reg if no tuning, display missclassifications)\n",
    "\n",
    "LR_class.Logistic_classification(x_test,y_test,x_train,y_train,x_val,y_val,False,False,False,1,'l2',False)"
   ]
  },
  {
   "cell_type": "code",
   "execution_count": null,
   "metadata": {
    "collapsed": true
   },
   "outputs": [],
   "source": [
    "#Linear_SVM\n",
    "#Linear_SVM_classification(X_t, y_t, X_tr, y_tr, X_v, y_v, Plot, Display tuning, Tune, C if no tuning,\n",
    "#                         display missclassifications)\n",
    "# Orange : support vectors positifs ; bleu : support vector négatifs\n",
    "\n",
    "Lin_SVM_class.Linear_SVM_classification(x_test,y_test,x_train,y_train,x_val,y_val,False,False,False,1, False)"
   ]
  },
  {
   "cell_type": "code",
   "execution_count": null,
   "metadata": {
    "collapsed": true
   },
   "outputs": [],
   "source": [
    "#Kernalized_SVM\n",
    "#Kernelized_SVM_classification(X_t,y_t,X_tr,y_tr,X_v,y_v,'rbf' or 'linear' kernel, plot,tune,C if no tuning,\n",
    "#                             gamma if no tuning, display missclassifications)\n",
    "\n",
    "#Ker_SVM_class.Kernelized_SVM_classification(x_test,y_test,x_train,y_train,x_val,y_val,'rbf',False,False,100,20,False)"
   ]
  },
  {
   "cell_type": "code",
   "execution_count": null,
   "metadata": {
    "collapsed": true
   },
   "outputs": [],
   "source": [
    "lamb = 0.26\n",
    "\n",
    "#Lasso Regression\n",
    "from sklearn.linear_model import Lasso\n",
    "lasso = Lasso(lamb)\n",
    "res = lasso.fit(x_train,y_train)\n",
    "w_hat = res.coef_.tolist()\n",
    "\n",
    "#ridge regression\n",
    "from sklearn.linear_model import Ridge\n",
    "ridge = Ridge(lamb)\n",
    "rid = ridge.fit(x_train,y_train)\n",
    "w_hat_r =rid.coef_.tolist()"
   ]
  },
  {
   "cell_type": "code",
   "execution_count": null,
   "metadata": {
    "collapsed": true
   },
   "outputs": [],
   "source": []
  }
 ],
 "metadata": {
  "kernelspec": {
   "display_name": "Python 3",
   "language": "python",
   "name": "python3"
  },
  "language_info": {
   "codemirror_mode": {
    "name": "ipython",
    "version": 3
   },
   "file_extension": ".py",
   "mimetype": "text/x-python",
   "name": "python",
   "nbconvert_exporter": "python",
   "pygments_lexer": "ipython3",
   "version": "3.6.1"
  }
 },
 "nbformat": 4,
 "nbformat_minor": 2
}
